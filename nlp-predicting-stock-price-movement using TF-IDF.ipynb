{
 "cells": [
  {
   "cell_type": "markdown",
   "id": "7e12a6cc",
   "metadata": {
    "papermill": {
     "duration": 0.025916,
     "end_time": "2021-05-18T11:16:33.062244",
     "exception": false,
     "start_time": "2021-05-18T11:16:33.036328",
     "status": "completed"
    },
    "tags": []
   },
   "source": [
    "# Importing required libraries"
   ]
  },
  {
   "cell_type": "code",
   "execution_count": 1,
   "id": "c48be2ca",
   "metadata": {
    "execution": {
     "iopub.execute_input": "2022-12-22T17:57:58.311430Z",
     "iopub.status.busy": "2022-12-22T17:57:58.310597Z",
     "iopub.status.idle": "2022-12-22T17:57:58.316940Z",
     "shell.execute_reply": "2022-12-22T17:57:58.315851Z",
     "shell.execute_reply.started": "2022-12-22T17:57:58.311376Z"
    },
    "papermill": {
     "duration": 2.172066,
     "end_time": "2021-05-18T11:16:35.259197",
     "exception": false,
     "start_time": "2021-05-18T11:16:33.087131",
     "status": "completed"
    },
    "tags": []
   },
   "outputs": [],
   "source": [
    "import pandas as pd\n",
    "import numpy as np\n",
    "import matplotlib.pyplot as plt\n",
    "import matplotlib\n",
    "import seaborn as sns\n",
    "\n",
    "from nltk.stem import WordNetLemmatizer\n",
    "from nltk.corpus import stopwords\n",
    "from sklearn.feature_extraction.text import TfidfVectorizer\n",
    "from sklearn.ensemble import RandomForestClassifier"
   ]
  },
  {
   "cell_type": "markdown",
   "id": "5baebbc7",
   "metadata": {
    "papermill": {
     "duration": 0.024981,
     "end_time": "2021-05-18T11:16:35.310193",
     "exception": false,
     "start_time": "2021-05-18T11:16:35.285212",
     "status": "completed"
    },
    "tags": []
   },
   "source": [
    "# Read data"
   ]
  },
  {
   "cell_type": "code",
   "execution_count": 2,
   "id": "09460ba8",
   "metadata": {
    "execution": {
     "iopub.execute_input": "2022-12-22T17:57:58.319258Z",
     "iopub.status.busy": "2022-12-22T17:57:58.318571Z",
     "iopub.status.idle": "2022-12-22T17:57:58.411706Z",
     "shell.execute_reply": "2022-12-22T17:57:58.410498Z",
     "shell.execute_reply.started": "2022-12-22T17:57:58.319217Z"
    },
    "papermill": {
     "duration": 0.202418,
     "end_time": "2021-05-18T11:16:35.538773",
     "exception": false,
     "start_time": "2021-05-18T11:16:35.336355",
     "status": "completed"
    },
    "tags": []
   },
   "outputs": [],
   "source": [
    "df = pd.read_csv(r'C:\\Users\\DELL\\Desktop\\MSC DATA SCIENCE\\SEM-I\\SET I\\DJIA news data and code\\Combined_News_DJIA.csv')"
   ]
  },
  {
   "cell_type": "code",
   "execution_count": 3,
   "id": "6e3a2df2",
   "metadata": {
    "execution": {
     "iopub.execute_input": "2022-12-22T17:57:58.414215Z",
     "iopub.status.busy": "2022-12-22T17:57:58.413833Z",
     "iopub.status.idle": "2022-12-22T17:57:58.446420Z",
     "shell.execute_reply": "2022-12-22T17:57:58.445188Z",
     "shell.execute_reply.started": "2022-12-22T17:57:58.414178Z"
    },
    "papermill": {
     "duration": 0.072694,
     "end_time": "2021-05-18T11:16:35.637466",
     "exception": false,
     "start_time": "2021-05-18T11:16:35.564772",
     "status": "completed"
    },
    "tags": []
   },
   "outputs": [
    {
     "data": {
      "text/html": [
       "<div>\n",
       "<style scoped>\n",
       "    .dataframe tbody tr th:only-of-type {\n",
       "        vertical-align: middle;\n",
       "    }\n",
       "\n",
       "    .dataframe tbody tr th {\n",
       "        vertical-align: top;\n",
       "    }\n",
       "\n",
       "    .dataframe thead th {\n",
       "        text-align: right;\n",
       "    }\n",
       "</style>\n",
       "<table border=\"1\" class=\"dataframe\">\n",
       "  <thead>\n",
       "    <tr style=\"text-align: right;\">\n",
       "      <th></th>\n",
       "      <th>Date</th>\n",
       "      <th>Label</th>\n",
       "      <th>Top1</th>\n",
       "      <th>Top2</th>\n",
       "      <th>Top3</th>\n",
       "      <th>Top4</th>\n",
       "      <th>Top5</th>\n",
       "      <th>Top6</th>\n",
       "      <th>Top7</th>\n",
       "      <th>Top8</th>\n",
       "      <th>...</th>\n",
       "      <th>Top16</th>\n",
       "      <th>Top17</th>\n",
       "      <th>Top18</th>\n",
       "      <th>Top19</th>\n",
       "      <th>Top20</th>\n",
       "      <th>Top21</th>\n",
       "      <th>Top22</th>\n",
       "      <th>Top23</th>\n",
       "      <th>Top24</th>\n",
       "      <th>Top25</th>\n",
       "    </tr>\n",
       "  </thead>\n",
       "  <tbody>\n",
       "    <tr>\n",
       "      <th>0</th>\n",
       "      <td>2008-08-08</td>\n",
       "      <td>0</td>\n",
       "      <td>b\"Georgia 'downs two Russian warplanes' as cou...</td>\n",
       "      <td>b'BREAKING: Musharraf to be impeached.'</td>\n",
       "      <td>b'Russia Today: Columns of troops roll into So...</td>\n",
       "      <td>b'Russian tanks are moving towards the capital...</td>\n",
       "      <td>b\"Afghan children raped with 'impunity,' U.N. ...</td>\n",
       "      <td>b'150 Russian tanks have entered South Ossetia...</td>\n",
       "      <td>b\"Breaking: Georgia invades South Ossetia, Rus...</td>\n",
       "      <td>b\"The 'enemy combatent' trials are nothing but...</td>\n",
       "      <td>...</td>\n",
       "      <td>b'Georgia Invades South Ossetia - if Russia ge...</td>\n",
       "      <td>b'Al-Qaeda Faces Islamist Backlash'</td>\n",
       "      <td>b'Condoleezza Rice: \"The US would not act to p...</td>\n",
       "      <td>b'This is a busy day:  The European Union has ...</td>\n",
       "      <td>b\"Georgia will withdraw 1,000 soldiers from Ir...</td>\n",
       "      <td>b'Why the Pentagon Thinks Attacking Iran is a ...</td>\n",
       "      <td>b'Caucasus in crisis: Georgia invades South Os...</td>\n",
       "      <td>b'Indian shoe manufactory  - And again in a se...</td>\n",
       "      <td>b'Visitors Suffering from Mental Illnesses Ban...</td>\n",
       "      <td>b\"No Help for Mexico's Kidnapping Surge\"</td>\n",
       "    </tr>\n",
       "    <tr>\n",
       "      <th>1</th>\n",
       "      <td>2008-08-11</td>\n",
       "      <td>1</td>\n",
       "      <td>b'Why wont America and Nato help us? If they w...</td>\n",
       "      <td>b'Bush puts foot down on Georgian conflict'</td>\n",
       "      <td>b\"Jewish Georgian minister: Thanks to Israeli ...</td>\n",
       "      <td>b'Georgian army flees in disarray as Russians ...</td>\n",
       "      <td>b\"Olympic opening ceremony fireworks 'faked'\"</td>\n",
       "      <td>b'What were the Mossad with fraudulent New Zea...</td>\n",
       "      <td>b'Russia angered by Israeli military sale to G...</td>\n",
       "      <td>b'An American citizen living in S.Ossetia blam...</td>\n",
       "      <td>...</td>\n",
       "      <td>b'Israel and the US behind the Georgian aggres...</td>\n",
       "      <td>b'\"Do not believe TV, neither Russian nor Geor...</td>\n",
       "      <td>b'Riots are still going on in Montreal (Canada...</td>\n",
       "      <td>b'China to overtake US as largest manufacturer'</td>\n",
       "      <td>b'War in South Ossetia [PICS]'</td>\n",
       "      <td>b'Israeli Physicians Group Condemns State Tort...</td>\n",
       "      <td>b' Russia has just beaten the United States ov...</td>\n",
       "      <td>b'Perhaps *the* question about the Georgia - R...</td>\n",
       "      <td>b'Russia is so much better at war'</td>\n",
       "      <td>b\"So this is what it's come to: trading sex fo...</td>\n",
       "    </tr>\n",
       "    <tr>\n",
       "      <th>2</th>\n",
       "      <td>2008-08-12</td>\n",
       "      <td>0</td>\n",
       "      <td>b'Remember that adorable 9-year-old who sang a...</td>\n",
       "      <td>b\"Russia 'ends Georgia operation'\"</td>\n",
       "      <td>b'\"If we had no sexual harassment we would hav...</td>\n",
       "      <td>b\"Al-Qa'eda is losing support in Iraq because ...</td>\n",
       "      <td>b'Ceasefire in Georgia: Putin Outmaneuvers the...</td>\n",
       "      <td>b'Why Microsoft and Intel tried to kill the XO...</td>\n",
       "      <td>b'Stratfor: The Russo-Georgian War and the Bal...</td>\n",
       "      <td>b\"I'm Trying to Get a Sense of This Whole Geor...</td>\n",
       "      <td>...</td>\n",
       "      <td>b'U.S. troops still in Georgia (did you know t...</td>\n",
       "      <td>b'Why Russias response to Georgia was right'</td>\n",
       "      <td>b'Gorbachev accuses U.S. of making a \"serious ...</td>\n",
       "      <td>b'Russia, Georgia, and NATO: Cold War Two'</td>\n",
       "      <td>b'Remember that adorable 62-year-old who led y...</td>\n",
       "      <td>b'War in Georgia: The Israeli connection'</td>\n",
       "      <td>b'All signs point to the US encouraging Georgi...</td>\n",
       "      <td>b'Christopher King argues that the US and NATO...</td>\n",
       "      <td>b'America: The New Mexico?'</td>\n",
       "      <td>b\"BBC NEWS | Asia-Pacific | Extinction 'by man...</td>\n",
       "    </tr>\n",
       "    <tr>\n",
       "      <th>3</th>\n",
       "      <td>2008-08-13</td>\n",
       "      <td>0</td>\n",
       "      <td>b' U.S. refuses Israel weapons to attack Iran:...</td>\n",
       "      <td>b\"When the president ordered to attack Tskhinv...</td>\n",
       "      <td>b' Israel clears troops who killed Reuters cam...</td>\n",
       "      <td>b'Britain\\'s policy of being tough on drugs is...</td>\n",
       "      <td>b'Body of 14 year old found in trunk; Latest (...</td>\n",
       "      <td>b'China has moved 10 *million* quake survivors...</td>\n",
       "      <td>b\"Bush announces Operation Get All Up In Russi...</td>\n",
       "      <td>b'Russian forces sink Georgian ships '</td>\n",
       "      <td>...</td>\n",
       "      <td>b'Elephants extinct by 2020?'</td>\n",
       "      <td>b'US humanitarian missions soon in Georgia - i...</td>\n",
       "      <td>b\"Georgia's DDOS came from US sources\"</td>\n",
       "      <td>b'Russian convoy heads into Georgia, violating...</td>\n",
       "      <td>b'Israeli defence minister: US against strike ...</td>\n",
       "      <td>b'Gorbachev: We Had No Choice'</td>\n",
       "      <td>b'Witness: Russian forces head towards Tbilisi...</td>\n",
       "      <td>b' Quarter of Russians blame U.S. for conflict...</td>\n",
       "      <td>b'Georgian president  says US military will ta...</td>\n",
       "      <td>b'2006: Nobel laureate Aleksander Solzhenitsyn...</td>\n",
       "    </tr>\n",
       "    <tr>\n",
       "      <th>4</th>\n",
       "      <td>2008-08-14</td>\n",
       "      <td>1</td>\n",
       "      <td>b'All the experts admit that we should legalis...</td>\n",
       "      <td>b'War in South Osetia - 89 pictures made by a ...</td>\n",
       "      <td>b'Swedish wrestler Ara Abrahamian throws away ...</td>\n",
       "      <td>b'Russia exaggerated the death toll in South O...</td>\n",
       "      <td>b'Missile That Killed 9 Inside Pakistan May Ha...</td>\n",
       "      <td>b\"Rushdie Condemns Random House's Refusal to P...</td>\n",
       "      <td>b'Poland and US agree to missle defense deal. ...</td>\n",
       "      <td>b'Will the Russians conquer Tblisi? Bet on it,...</td>\n",
       "      <td>...</td>\n",
       "      <td>b'Bank analyst forecast Georgian crisis 2 days...</td>\n",
       "      <td>b\"Georgia confict could set back Russia's US r...</td>\n",
       "      <td>b'War in the Caucasus is as much the product o...</td>\n",
       "      <td>b'\"Non-media\" photos of South Ossetia/Georgia ...</td>\n",
       "      <td>b'Georgian TV reporter shot by Russian sniper ...</td>\n",
       "      <td>b'Saudi Arabia: Mother moves to block child ma...</td>\n",
       "      <td>b'Taliban wages war on humanitarian aid workers'</td>\n",
       "      <td>b'Russia: World  \"can forget about\" Georgia\\'s...</td>\n",
       "      <td>b'Darfur rebels accuse Sudan of mounting major...</td>\n",
       "      <td>b'Philippines : Peace Advocate say Muslims nee...</td>\n",
       "    </tr>\n",
       "  </tbody>\n",
       "</table>\n",
       "<p>5 rows × 27 columns</p>\n",
       "</div>"
      ],
      "text/plain": [
       "         Date  Label                                               Top1  \\\n",
       "0  2008-08-08      0  b\"Georgia 'downs two Russian warplanes' as cou...   \n",
       "1  2008-08-11      1  b'Why wont America and Nato help us? If they w...   \n",
       "2  2008-08-12      0  b'Remember that adorable 9-year-old who sang a...   \n",
       "3  2008-08-13      0  b' U.S. refuses Israel weapons to attack Iran:...   \n",
       "4  2008-08-14      1  b'All the experts admit that we should legalis...   \n",
       "\n",
       "                                                Top2  \\\n",
       "0            b'BREAKING: Musharraf to be impeached.'   \n",
       "1        b'Bush puts foot down on Georgian conflict'   \n",
       "2                 b\"Russia 'ends Georgia operation'\"   \n",
       "3  b\"When the president ordered to attack Tskhinv...   \n",
       "4  b'War in South Osetia - 89 pictures made by a ...   \n",
       "\n",
       "                                                Top3  \\\n",
       "0  b'Russia Today: Columns of troops roll into So...   \n",
       "1  b\"Jewish Georgian minister: Thanks to Israeli ...   \n",
       "2  b'\"If we had no sexual harassment we would hav...   \n",
       "3  b' Israel clears troops who killed Reuters cam...   \n",
       "4  b'Swedish wrestler Ara Abrahamian throws away ...   \n",
       "\n",
       "                                                Top4  \\\n",
       "0  b'Russian tanks are moving towards the capital...   \n",
       "1  b'Georgian army flees in disarray as Russians ...   \n",
       "2  b\"Al-Qa'eda is losing support in Iraq because ...   \n",
       "3  b'Britain\\'s policy of being tough on drugs is...   \n",
       "4  b'Russia exaggerated the death toll in South O...   \n",
       "\n",
       "                                                Top5  \\\n",
       "0  b\"Afghan children raped with 'impunity,' U.N. ...   \n",
       "1      b\"Olympic opening ceremony fireworks 'faked'\"   \n",
       "2  b'Ceasefire in Georgia: Putin Outmaneuvers the...   \n",
       "3  b'Body of 14 year old found in trunk; Latest (...   \n",
       "4  b'Missile That Killed 9 Inside Pakistan May Ha...   \n",
       "\n",
       "                                                Top6  \\\n",
       "0  b'150 Russian tanks have entered South Ossetia...   \n",
       "1  b'What were the Mossad with fraudulent New Zea...   \n",
       "2  b'Why Microsoft and Intel tried to kill the XO...   \n",
       "3  b'China has moved 10 *million* quake survivors...   \n",
       "4  b\"Rushdie Condemns Random House's Refusal to P...   \n",
       "\n",
       "                                                Top7  \\\n",
       "0  b\"Breaking: Georgia invades South Ossetia, Rus...   \n",
       "1  b'Russia angered by Israeli military sale to G...   \n",
       "2  b'Stratfor: The Russo-Georgian War and the Bal...   \n",
       "3  b\"Bush announces Operation Get All Up In Russi...   \n",
       "4  b'Poland and US agree to missle defense deal. ...   \n",
       "\n",
       "                                                Top8  ...  \\\n",
       "0  b\"The 'enemy combatent' trials are nothing but...  ...   \n",
       "1  b'An American citizen living in S.Ossetia blam...  ...   \n",
       "2  b\"I'm Trying to Get a Sense of This Whole Geor...  ...   \n",
       "3             b'Russian forces sink Georgian ships '  ...   \n",
       "4  b'Will the Russians conquer Tblisi? Bet on it,...  ...   \n",
       "\n",
       "                                               Top16  \\\n",
       "0  b'Georgia Invades South Ossetia - if Russia ge...   \n",
       "1  b'Israel and the US behind the Georgian aggres...   \n",
       "2  b'U.S. troops still in Georgia (did you know t...   \n",
       "3                      b'Elephants extinct by 2020?'   \n",
       "4  b'Bank analyst forecast Georgian crisis 2 days...   \n",
       "\n",
       "                                               Top17  \\\n",
       "0                b'Al-Qaeda Faces Islamist Backlash'   \n",
       "1  b'\"Do not believe TV, neither Russian nor Geor...   \n",
       "2       b'Why Russias response to Georgia was right'   \n",
       "3  b'US humanitarian missions soon in Georgia - i...   \n",
       "4  b\"Georgia confict could set back Russia's US r...   \n",
       "\n",
       "                                               Top18  \\\n",
       "0  b'Condoleezza Rice: \"The US would not act to p...   \n",
       "1  b'Riots are still going on in Montreal (Canada...   \n",
       "2  b'Gorbachev accuses U.S. of making a \"serious ...   \n",
       "3             b\"Georgia's DDOS came from US sources\"   \n",
       "4  b'War in the Caucasus is as much the product o...   \n",
       "\n",
       "                                               Top19  \\\n",
       "0  b'This is a busy day:  The European Union has ...   \n",
       "1    b'China to overtake US as largest manufacturer'   \n",
       "2         b'Russia, Georgia, and NATO: Cold War Two'   \n",
       "3  b'Russian convoy heads into Georgia, violating...   \n",
       "4  b'\"Non-media\" photos of South Ossetia/Georgia ...   \n",
       "\n",
       "                                               Top20  \\\n",
       "0  b\"Georgia will withdraw 1,000 soldiers from Ir...   \n",
       "1                     b'War in South Ossetia [PICS]'   \n",
       "2  b'Remember that adorable 62-year-old who led y...   \n",
       "3  b'Israeli defence minister: US against strike ...   \n",
       "4  b'Georgian TV reporter shot by Russian sniper ...   \n",
       "\n",
       "                                               Top21  \\\n",
       "0  b'Why the Pentagon Thinks Attacking Iran is a ...   \n",
       "1  b'Israeli Physicians Group Condemns State Tort...   \n",
       "2          b'War in Georgia: The Israeli connection'   \n",
       "3                     b'Gorbachev: We Had No Choice'   \n",
       "4  b'Saudi Arabia: Mother moves to block child ma...   \n",
       "\n",
       "                                               Top22  \\\n",
       "0  b'Caucasus in crisis: Georgia invades South Os...   \n",
       "1  b' Russia has just beaten the United States ov...   \n",
       "2  b'All signs point to the US encouraging Georgi...   \n",
       "3  b'Witness: Russian forces head towards Tbilisi...   \n",
       "4   b'Taliban wages war on humanitarian aid workers'   \n",
       "\n",
       "                                               Top23  \\\n",
       "0  b'Indian shoe manufactory  - And again in a se...   \n",
       "1  b'Perhaps *the* question about the Georgia - R...   \n",
       "2  b'Christopher King argues that the US and NATO...   \n",
       "3  b' Quarter of Russians blame U.S. for conflict...   \n",
       "4  b'Russia: World  \"can forget about\" Georgia\\'s...   \n",
       "\n",
       "                                               Top24  \\\n",
       "0  b'Visitors Suffering from Mental Illnesses Ban...   \n",
       "1                 b'Russia is so much better at war'   \n",
       "2                        b'America: The New Mexico?'   \n",
       "3  b'Georgian president  says US military will ta...   \n",
       "4  b'Darfur rebels accuse Sudan of mounting major...   \n",
       "\n",
       "                                               Top25  \n",
       "0           b\"No Help for Mexico's Kidnapping Surge\"  \n",
       "1  b\"So this is what it's come to: trading sex fo...  \n",
       "2  b\"BBC NEWS | Asia-Pacific | Extinction 'by man...  \n",
       "3  b'2006: Nobel laureate Aleksander Solzhenitsyn...  \n",
       "4  b'Philippines : Peace Advocate say Muslims nee...  \n",
       "\n",
       "[5 rows x 27 columns]"
      ]
     },
     "execution_count": 3,
     "metadata": {},
     "output_type": "execute_result"
    }
   ],
   "source": [
    "df.head()"
   ]
  },
  {
   "cell_type": "markdown",
   "id": "5262eda8",
   "metadata": {
    "papermill": {
     "duration": 0.026174,
     "end_time": "2021-05-18T11:16:35.689962",
     "exception": false,
     "start_time": "2021-05-18T11:16:35.663788",
     "status": "completed"
    },
    "tags": []
   },
   "source": [
    "## Check for null values"
   ]
  },
  {
   "cell_type": "code",
   "execution_count": 4,
   "id": "6a0c81f8",
   "metadata": {},
   "outputs": [
    {
     "data": {
      "text/plain": [
       "(1989, 27)"
      ]
     },
     "execution_count": 4,
     "metadata": {},
     "output_type": "execute_result"
    }
   ],
   "source": [
    "df.shape"
   ]
  },
  {
   "cell_type": "code",
   "execution_count": 5,
   "id": "170a6edd",
   "metadata": {
    "execution": {
     "iopub.execute_input": "2022-12-22T17:57:58.448833Z",
     "iopub.status.busy": "2022-12-22T17:57:58.448214Z",
     "iopub.status.idle": "2022-12-22T17:57:58.465123Z",
     "shell.execute_reply": "2022-12-22T17:57:58.463871Z",
     "shell.execute_reply.started": "2022-12-22T17:57:58.448778Z"
    },
    "papermill": {
     "duration": 0.044298,
     "end_time": "2021-05-18T11:16:35.760792",
     "exception": false,
     "start_time": "2021-05-18T11:16:35.716494",
     "status": "completed"
    },
    "tags": []
   },
   "outputs": [
    {
     "data": {
      "text/plain": [
       "Date     0\n",
       "Label    0\n",
       "Top1     0\n",
       "Top2     0\n",
       "Top3     0\n",
       "Top4     0\n",
       "Top5     0\n",
       "Top6     0\n",
       "Top7     0\n",
       "Top8     0\n",
       "Top9     0\n",
       "Top10    0\n",
       "Top11    0\n",
       "Top12    0\n",
       "Top13    0\n",
       "Top14    0\n",
       "Top15    0\n",
       "Top16    0\n",
       "Top17    0\n",
       "Top18    0\n",
       "Top19    0\n",
       "Top20    0\n",
       "Top21    0\n",
       "Top22    0\n",
       "Top23    1\n",
       "Top24    3\n",
       "Top25    3\n",
       "dtype: int64"
      ]
     },
     "execution_count": 5,
     "metadata": {},
     "output_type": "execute_result"
    }
   ],
   "source": [
    "df.isnull().sum()"
   ]
  },
  {
   "cell_type": "markdown",
   "id": "c6401b12",
   "metadata": {
    "papermill": {
     "duration": 0.026978,
     "end_time": "2021-05-18T11:16:35.814621",
     "exception": false,
     "start_time": "2021-05-18T11:16:35.787643",
     "status": "completed"
    },
    "tags": []
   },
   "source": [
    "We have null values for columns - 'Top23', 'Top24', and 'Top25'"
   ]
  },
  {
   "cell_type": "markdown",
   "id": "86b071d0",
   "metadata": {
    "papermill": {
     "duration": 0.026672,
     "end_time": "2021-05-18T11:16:35.868547",
     "exception": false,
     "start_time": "2021-05-18T11:16:35.841875",
     "status": "completed"
    },
    "tags": []
   },
   "source": [
    "We will remove the rows that contain null values"
   ]
  },
  {
   "cell_type": "code",
   "execution_count": 6,
   "id": "fc452f7e",
   "metadata": {
    "execution": {
     "iopub.execute_input": "2022-12-22T17:57:58.467756Z",
     "iopub.status.busy": "2022-12-22T17:57:58.467299Z",
     "iopub.status.idle": "2022-12-22T17:57:58.485266Z",
     "shell.execute_reply": "2022-12-22T17:57:58.484111Z",
     "shell.execute_reply.started": "2022-12-22T17:57:58.467709Z"
    },
    "papermill": {
     "duration": 0.063621,
     "end_time": "2021-05-18T11:16:35.959396",
     "exception": false,
     "start_time": "2021-05-18T11:16:35.895775",
     "status": "completed"
    },
    "tags": []
   },
   "outputs": [],
   "source": [
    "df.dropna(inplace= True)"
   ]
  },
  {
   "cell_type": "markdown",
   "id": "562547b7",
   "metadata": {
    "papermill": {
     "duration": 0.026834,
     "end_time": "2021-05-18T11:16:36.013733",
     "exception": false,
     "start_time": "2021-05-18T11:16:35.986899",
     "status": "completed"
    },
    "tags": []
   },
   "source": [
    "check for null values again"
   ]
  },
  {
   "cell_type": "code",
   "execution_count": 7,
   "id": "e9c53f6e",
   "metadata": {},
   "outputs": [
    {
     "data": {
      "text/plain": [
       "(1986, 27)"
      ]
     },
     "execution_count": 7,
     "metadata": {},
     "output_type": "execute_result"
    }
   ],
   "source": [
    "df.shape"
   ]
  },
  {
   "cell_type": "code",
   "execution_count": 8,
   "id": "650cc796",
   "metadata": {
    "execution": {
     "iopub.execute_input": "2022-12-22T17:57:58.487431Z",
     "iopub.status.busy": "2022-12-22T17:57:58.486974Z",
     "iopub.status.idle": "2022-12-22T17:57:58.503146Z",
     "shell.execute_reply": "2022-12-22T17:57:58.502214Z",
     "shell.execute_reply.started": "2022-12-22T17:57:58.487335Z"
    },
    "papermill": {
     "duration": 0.045688,
     "end_time": "2021-05-18T11:16:36.086741",
     "exception": false,
     "start_time": "2021-05-18T11:16:36.041053",
     "status": "completed"
    },
    "tags": []
   },
   "outputs": [
    {
     "data": {
      "text/plain": [
       "Date     0\n",
       "Label    0\n",
       "Top1     0\n",
       "Top2     0\n",
       "Top3     0\n",
       "Top4     0\n",
       "Top5     0\n",
       "Top6     0\n",
       "Top7     0\n",
       "Top8     0\n",
       "Top9     0\n",
       "Top10    0\n",
       "Top11    0\n",
       "Top12    0\n",
       "Top13    0\n",
       "Top14    0\n",
       "Top15    0\n",
       "Top16    0\n",
       "Top17    0\n",
       "Top18    0\n",
       "Top19    0\n",
       "Top20    0\n",
       "Top21    0\n",
       "Top22    0\n",
       "Top23    0\n",
       "Top24    0\n",
       "Top25    0\n",
       "dtype: int64"
      ]
     },
     "execution_count": 8,
     "metadata": {},
     "output_type": "execute_result"
    }
   ],
   "source": [
    "df.isnull().sum()"
   ]
  },
  {
   "cell_type": "markdown",
   "id": "397780e0",
   "metadata": {
    "papermill": {
     "duration": 0.027228,
     "end_time": "2021-05-18T11:16:36.141459",
     "exception": false,
     "start_time": "2021-05-18T11:16:36.114231",
     "status": "completed"
    },
    "tags": []
   },
   "source": [
    "# Visualize the distribution of target variable"
   ]
  },
  {
   "cell_type": "code",
   "execution_count": 9,
   "id": "98e5476c",
   "metadata": {},
   "outputs": [
    {
     "data": {
      "text/plain": [
       "Label\n",
       "1    1062\n",
       "0     924\n",
       "dtype: int64"
      ]
     },
     "execution_count": 9,
     "metadata": {},
     "output_type": "execute_result"
    }
   ],
   "source": [
    "df.value_counts(df.Label)"
   ]
  },
  {
   "cell_type": "code",
   "execution_count": 10,
   "id": "a11c845a",
   "metadata": {
    "execution": {
     "iopub.execute_input": "2022-12-22T17:57:58.505039Z",
     "iopub.status.busy": "2022-12-22T17:57:58.504505Z",
     "iopub.status.idle": "2022-12-22T17:57:58.635322Z",
     "shell.execute_reply": "2022-12-22T17:57:58.634219Z",
     "shell.execute_reply.started": "2022-12-22T17:57:58.504978Z"
    },
    "papermill": {
     "duration": 0.182683,
     "end_time": "2021-05-18T11:16:36.352457",
     "exception": false,
     "start_time": "2021-05-18T11:16:36.169774",
     "status": "completed"
    },
    "scrolled": true,
    "tags": []
   },
   "outputs": [
    {
     "data": {
      "text/plain": [
       "<Axes: xlabel='Label', ylabel='count'>"
      ]
     },
     "execution_count": 10,
     "metadata": {},
     "output_type": "execute_result"
    },
    {
     "data": {
      "image/png": "[encoded data removed]",
      "text/plain": [
       "<Figure size 640x480 with 1 Axes>"
      ]
     },
     "metadata": {},
     "output_type": "display_data"
    }
   ],
   "source": [
    "sns.countplot(x=df['Label'])"
   ]
  },
  {
   "cell_type": "markdown",
   "id": "5f0d9e3f",
   "metadata": {
    "papermill": {
     "duration": 0.028029,
     "end_time": "2021-05-18T11:16:36.409244",
     "exception": false,
     "start_time": "2021-05-18T11:16:36.381215",
     "status": "completed"
    },
    "tags": []
   },
   "source": [
    "The dataset is balanced in terms of number of tagets"
   ]
  },
  {
   "cell_type": "markdown",
   "id": "000a5064",
   "metadata": {
    "papermill": {
     "duration": 0.028209,
     "end_time": "2021-05-18T11:16:36.465804",
     "exception": false,
     "start_time": "2021-05-18T11:16:36.437595",
     "status": "completed"
    },
    "tags": []
   },
   "source": [
    "# Split the dataset into training and test data"
   ]
  },
  {
   "cell_type": "code",
   "execution_count": 11,
   "id": "11d03e12",
   "metadata": {
    "execution": {
     "iopub.execute_input": "2022-12-22T17:57:58.637013Z",
     "iopub.status.busy": "2022-12-22T17:57:58.636713Z",
     "iopub.status.idle": "2022-12-22T17:57:58.646054Z",
     "shell.execute_reply": "2022-12-22T17:57:58.645212Z",
     "shell.execute_reply.started": "2022-12-22T17:57:58.636983Z"
    },
    "papermill": {
     "duration": 0.040147,
     "end_time": "2021-05-18T11:16:36.534552",
     "exception": false,
     "start_time": "2021-05-18T11:16:36.494405",
     "status": "completed"
    },
    "tags": []
   },
   "outputs": [],
   "source": [
    "df_train = df[df['Date'] < '20150101']\n",
    "df_test = df[df['Date'] > '20141231']"
   ]
  },
  {
   "cell_type": "markdown",
   "id": "0a8e72c8",
   "metadata": {
    "papermill": {
     "duration": 0.028135,
     "end_time": "2021-05-18T11:16:36.649076",
     "exception": false,
     "start_time": "2021-05-18T11:16:36.620941",
     "status": "completed"
    },
    "tags": []
   },
   "source": [
    "## Here we will define the functions for performing Data Cleaning and Preprocessing"
   ]
  },
  {
   "cell_type": "code",
   "execution_count": 12,
   "id": "1bd8c55d",
   "metadata": {
    "execution": {
     "iopub.execute_input": "2022-12-22T17:57:58.648626Z",
     "iopub.status.busy": "2022-12-22T17:57:58.648132Z",
     "iopub.status.idle": "2022-12-22T17:57:58.657915Z",
     "shell.execute_reply": "2022-12-22T17:57:58.656733Z",
     "shell.execute_reply.started": "2022-12-22T17:57:58.648566Z"
    },
    "papermill": {
     "duration": 0.041252,
     "end_time": "2021-05-18T11:16:36.718797",
     "exception": false,
     "start_time": "2021-05-18T11:16:36.677545",
     "status": "completed"
    },
    "tags": []
   },
   "outputs": [],
   "source": [
    "# function for cleaning the data\n",
    "def clean_data(dataset):\n",
    "    data = dataset.iloc[:,2:27]\n",
    "    data.replace(\"[^a-zA-Z]\", \" \", regex=True, inplace=True)\n",
    "    return data\n",
    "\n",
    "# function for combining the headlines of all the columns into single column\n",
    "def combine_data(data):\n",
    "    headlines = []\n",
    "    for i in range(len(data.index)):\n",
    "        headlines.append(' '.join(str(x) for x in data.iloc[i, :]))\n",
    "    return headlines\n",
    "\n",
    "# function to perform lemmatization of the word\n",
    "def lemmatize_data(data, lemmatizer):\n",
    "    cleaned_dataset = []\n",
    "    for i in range(len(data)):\n",
    "        clean_text = data[i].lower()\n",
    "        clean_text = clean_text.split()\n",
    "        clean_text = [lemmatizer.lemmatize(word) for word in clean_text if word not in stopwords.words('english')]\n",
    "        cleaned_dataset.append(' '.join(clean_text))\n",
    "    return cleaned_dataset\n",
    "\n",
    "# function to vectorize the data\n",
    "def vectorize_data(data, cv):\n",
    "    vectorized_dataset = cv.fit_transform(data)\n",
    "    return vectorized_dataset"
   ]
  },
  {
   "cell_type": "markdown",
   "id": "7dd1d1a1",
   "metadata": {
    "papermill": {
     "duration": 0.028571,
     "end_time": "2021-05-18T11:16:36.776300",
     "exception": false,
     "start_time": "2021-05-18T11:16:36.747729",
     "status": "completed"
    },
    "tags": []
   },
   "source": [
    "# Clean train and test data"
   ]
  },
  {
   "cell_type": "code",
   "execution_count": 13,
   "id": "302fde87",
   "metadata": {
    "execution": {
     "iopub.execute_input": "2022-12-22T17:57:58.660639Z",
     "iopub.status.busy": "2022-12-22T17:57:58.660195Z",
     "iopub.status.idle": "2022-12-22T17:57:59.066163Z",
     "shell.execute_reply": "2022-12-22T17:57:59.065344Z",
     "shell.execute_reply.started": "2022-12-22T17:57:58.660594Z"
    },
    "papermill": {
     "duration": 0.741897,
     "end_time": "2021-05-18T11:16:37.547899",
     "exception": false,
     "start_time": "2021-05-18T11:16:36.806002",
     "status": "completed"
    },
    "tags": []
   },
   "outputs": [],
   "source": [
    "# clean train and test data\n",
    "clean_train_data = clean_data(df_train)\n",
    "clean_test_data = clean_data(df_test)"
   ]
  },
  {
   "cell_type": "markdown",
   "id": "3138269b",
   "metadata": {
    "papermill": {
     "duration": 0.028503,
     "end_time": "2021-05-18T11:16:37.605677",
     "exception": false,
     "start_time": "2021-05-18T11:16:37.577174",
     "status": "completed"
    },
    "tags": []
   },
   "source": [
    "# Combine headlines"
   ]
  },
  {
   "cell_type": "code",
   "execution_count": 14,
   "id": "9d3a00f9",
   "metadata": {
    "execution": {
     "iopub.execute_input": "2022-12-22T17:57:59.068833Z",
     "iopub.status.busy": "2022-12-22T17:57:59.068023Z",
     "iopub.status.idle": "2022-12-22T17:57:59.547414Z",
     "shell.execute_reply": "2022-12-22T17:57:59.546154Z",
     "shell.execute_reply.started": "2022-12-22T17:57:59.068766Z"
    },
    "papermill": {
     "duration": 0.495281,
     "end_time": "2021-05-18T11:16:38.129773",
     "exception": false,
     "start_time": "2021-05-18T11:16:37.634492",
     "status": "completed"
    },
    "tags": []
   },
   "outputs": [],
   "source": [
    "# combine the headlines in single column\n",
    "comb_train_data = combine_data(clean_train_data)\n",
    "comb_test_data = combine_data(clean_test_data)"
   ]
  },
  {
   "cell_type": "markdown",
   "id": "a2612364",
   "metadata": {
    "papermill": {
     "duration": 0.031192,
     "end_time": "2021-05-18T11:16:38.190462",
     "exception": false,
     "start_time": "2021-05-18T11:16:38.159270",
     "status": "completed"
    },
    "tags": []
   },
   "source": [
    "# Create Lemmatizer object"
   ]
  },
  {
   "cell_type": "code",
   "execution_count": 15,
   "id": "724e72f0",
   "metadata": {
    "execution": {
     "iopub.execute_input": "2022-12-22T17:57:59.549737Z",
     "iopub.status.busy": "2022-12-22T17:57:59.549035Z",
     "iopub.status.idle": "2022-12-22T17:57:59.554716Z",
     "shell.execute_reply": "2022-12-22T17:57:59.553687Z",
     "shell.execute_reply.started": "2022-12-22T17:57:59.549682Z"
    },
    "papermill": {
     "duration": 0.036425,
     "end_time": "2021-05-18T11:16:38.256299",
     "exception": false,
     "start_time": "2021-05-18T11:16:38.219874",
     "status": "completed"
    },
    "tags": []
   },
   "outputs": [],
   "source": [
    "lemmatizer = WordNetLemmatizer()"
   ]
  },
  {
   "cell_type": "markdown",
   "id": "1fb12bd0",
   "metadata": {
    "papermill": {
     "duration": 0.029038,
     "end_time": "2021-05-18T11:16:38.314668",
     "exception": false,
     "start_time": "2021-05-18T11:16:38.285630",
     "status": "completed"
    },
    "tags": []
   },
   "source": [
    "## Lemmatize the data"
   ]
  },
  {
   "cell_type": "code",
   "execution_count": 16,
   "id": "562be0ea",
   "metadata": {
    "execution": {
     "iopub.execute_input": "2022-12-22T17:57:59.556804Z",
     "iopub.status.busy": "2022-12-22T17:57:59.556230Z",
     "iopub.status.idle": "2022-12-22T18:00:33.028292Z",
     "shell.execute_reply": "2022-12-22T18:00:33.027288Z",
     "shell.execute_reply.started": "2022-12-22T17:57:59.556758Z"
    },
    "papermill": {
     "duration": 132.262876,
     "end_time": "2021-05-18T11:18:50.606622",
     "exception": false,
     "start_time": "2021-05-18T11:16:38.343746",
     "status": "completed"
    },
    "tags": []
   },
   "outputs": [],
   "source": [
    "# lemmatize data\n",
    "train_data = lemmatize_data(comb_train_data, lemmatizer)\n",
    "test_data = lemmatize_data(comb_test_data, lemmatizer)"
   ]
  },
  {
   "cell_type": "markdown",
   "id": "cc50bcd6",
   "metadata": {
    "papermill": {
     "duration": 0.028452,
     "end_time": "2021-05-18T11:18:50.664888",
     "exception": false,
     "start_time": "2021-05-18T11:18:50.636436",
     "status": "completed"
    },
    "tags": []
   },
   "source": [
    "# Create CountVectorizer object"
   ]
  },
  {
   "cell_type": "code",
   "execution_count": 28,
   "id": "1da4ca4f",
   "metadata": {
    "execution": {
     "iopub.execute_input": "2022-12-22T18:00:33.030466Z",
     "iopub.status.busy": "2022-12-22T18:00:33.030015Z",
     "iopub.status.idle": "2022-12-22T18:00:33.073520Z",
     "shell.execute_reply": "2022-12-22T18:00:33.072664Z",
     "shell.execute_reply.started": "2022-12-22T18:00:33.030419Z"
    },
    "papermill": {
     "duration": 0.036857,
     "end_time": "2021-05-18T11:18:50.730746",
     "exception": false,
     "start_time": "2021-05-18T11:18:50.693889",
     "status": "completed"
    },
    "tags": []
   },
   "outputs": [],
   "source": [
    "cv = TfidfVectorizer(ngram_range=(2,2))"
   ]
  },
  {
   "cell_type": "markdown",
   "id": "4a44970e",
   "metadata": {
    "papermill": {
     "duration": 0.029032,
     "end_time": "2021-05-18T11:18:50.789619",
     "exception": false,
     "start_time": "2021-05-18T11:18:50.760587",
     "status": "completed"
    },
    "tags": []
   },
   "source": [
    "# Vectorize the data"
   ]
  },
  {
   "cell_type": "code",
   "execution_count": 29,
   "id": "3ff8d955",
   "metadata": {},
   "outputs": [
    {
     "data": {
      "text/plain": [
       "1860"
      ]
     },
     "execution_count": 29,
     "metadata": {},
     "output_type": "execute_result"
    }
   ],
   "source": [
    "len(train_data)"
   ]
  },
  {
   "cell_type": "code",
   "execution_count": 54,
   "id": "006f2fdf",
   "metadata": {
    "execution": {
     "iopub.execute_input": "2022-12-22T18:00:33.075290Z",
     "iopub.status.busy": "2022-12-22T18:00:33.074808Z",
     "iopub.status.idle": "2022-12-22T18:00:35.967675Z",
     "shell.execute_reply": "2022-12-22T18:00:35.966608Z",
     "shell.execute_reply.started": "2022-12-22T18:00:33.075237Z"
    },
    "papermill": {
     "duration": 2.847024,
     "end_time": "2021-05-18T11:18:53.666049",
     "exception": false,
     "start_time": "2021-05-18T11:18:50.819025",
     "status": "completed"
    },
    "tags": []
   },
   "outputs": [],
   "source": [
    "# vectorize data\n",
    "cv = TfidfVectorizer(ngram_range=(2,2))\n",
    "vec_train_data = vectorize_data(train_data, cv)\n",
    "vec_test_data = cv.transform(test_data)"
   ]
  },
  {
   "cell_type": "code",
   "execution_count": 55,
   "id": "747a227f",
   "metadata": {},
   "outputs": [],
   "source": [
    "import pickle\n",
    "\n",
    "# Save the TfidfVectorizer to a pickle file\n",
    "with open('tfidf_vectorizer.pkl', 'wb') as vectorizer_file:\n",
    "    pickle.dump(cv, vectorizer_file)"
   ]
  },
  {
   "cell_type": "code",
   "execution_count": 56,
   "id": "62d8557a",
   "metadata": {},
   "outputs": [
    {
     "name": "stdout",
     "output_type": "stream",
     "text": [
      "  (0, 187996)\t0.06405017290096815\n",
      "  (0, 217164)\t0.06405017290096815\n",
      "  (0, 157700)\t0.060735850362792804\n",
      "  (0, 241826)\t0.06405017290096815\n",
      "  (0, 31225)\t0.060735850362792804\n",
      "  (0, 166608)\t0.06405017290096815\n",
      "  (0, 216049)\t0.05175565602242611\n",
      "  (0, 336673)\t0.06405017290096815\n",
      "  (0, 374234)\t0.06405017290096815\n",
      "  (0, 386485)\t0.06405017290096815\n",
      "  (0, 201988)\t0.06405017290096815\n",
      "  (0, 312329)\t0.06405017290096815\n",
      "  (0, 210065)\t0.06405017290096815\n",
      "  (0, 315987)\t0.06405017290096815\n",
      "  (0, 170208)\t0.060735850362792804\n",
      "  (0, 245520)\t0.06405017290096815\n",
      "  (0, 82723)\t0.06405017290096815\n",
      "  (0, 55478)\t0.06405017290096815\n",
      "  (0, 288809)\t0.06405017290096815\n",
      "  (0, 387759)\t0.05506997856060144\n",
      "  (0, 14855)\t0.06405017290096815\n",
      "  (0, 233673)\t0.060735850362792804\n",
      "  (0, 165522)\t0.06405017290096815\n",
      "  (0, 28799)\t0.060735850362792804\n",
      "  (0, 176375)\t0.06405017290096815\n",
      "  :\t:\n",
      "  (1859, 233580)\t0.12303575679494932\n",
      "  (1859, 163925)\t0.040635222236260045\n",
      "  (1859, 361476)\t0.043254634272751245\n",
      "  (1859, 189320)\t0.04834509015891111\n",
      "  (1859, 338220)\t0.045725678122419906\n",
      "  (1859, 144395)\t0.04947716896914057\n",
      "  (1859, 363476)\t0.04834509015891111\n",
      "  (1859, 240778)\t0.05081613400857977\n",
      "  (1859, 245372)\t0.045025722500579325\n",
      "  (1859, 302110)\t0.03436041703121872\n",
      "  (1859, 148672)\t0.045025722500579325\n",
      "  (1859, 156450)\t0.05081613400857977\n",
      "  (1859, 352186)\t0.04379888140184803\n",
      "  (1859, 161158)\t0.043254634272751245\n",
      "  (1859, 233163)\t0.03092827977958178\n",
      "  (1859, 9216)\t0.030095996695452723\n",
      "  (1859, 316277)\t0.04834509015891111\n",
      "  (1859, 148398)\t0.04027690846777244\n",
      "  (1859, 362811)\t0.02926996114505886\n",
      "  (1859, 153810)\t0.03843126147302311\n",
      "  (1859, 19034)\t0.05245489477411937\n",
      "  (1859, 304919)\t0.040635222236260045\n",
      "  (1859, 303300)\t0.021021707987034094\n",
      "  (1859, 342814)\t0.044386713082980714\n",
      "  (1859, 176873)\t0.036957540809440664\n"
     ]
    }
   ],
   "source": [
    "print(vec_train_data)"
   ]
  },
  {
   "cell_type": "markdown",
   "id": "cbd277f0",
   "metadata": {
    "papermill": {
     "duration": 0.028813,
     "end_time": "2021-05-18T11:18:53.724409",
     "exception": false,
     "start_time": "2021-05-18T11:18:53.695596",
     "status": "completed"
    },
    "tags": []
   },
   "source": [
    "# Create Random Forest Classifier"
   ]
  },
  {
   "cell_type": "code",
   "execution_count": 35,
   "id": "e4bdd9bf",
   "metadata": {
    "execution": {
     "iopub.execute_input": "2022-12-22T18:00:35.969419Z",
     "iopub.status.busy": "2022-12-22T18:00:35.969026Z",
     "iopub.status.idle": "2022-12-22T18:00:56.994086Z",
     "shell.execute_reply": "2022-12-22T18:00:56.992905Z",
     "shell.execute_reply.started": "2022-12-22T18:00:35.969382Z"
    },
    "papermill": {
     "duration": 20.123293,
     "end_time": "2021-05-18T11:19:13.877001",
     "exception": false,
     "start_time": "2021-05-18T11:18:53.753708",
     "status": "completed"
    },
    "tags": []
   },
   "outputs": [
    {
     "data": {
      "text/html": [
       "<style>#sk-container-id-1 {color: black;}#sk-container-id-1 pre{padding: 0;}#sk-container-id-1 div.sk-toggleable {background-color: white;}#sk-container-id-1 label.sk-toggleable__label {cursor: pointer;display: block;width: 100%;margin-bottom: 0;padding: 0.3em;box-sizing: border-box;text-align: center;}#sk-container-id-1 label.sk-toggleable__label-arrow:before {content: \"▸\";float: left;margin-right: 0.25em;color: #696969;}#sk-container-id-1 label.sk-toggleable__label-arrow:hover:before {color: black;}#sk-container-id-1 div.sk-estimator:hover label.sk-toggleable__label-arrow:before {color: black;}#sk-container-id-1 div.sk-toggleable__content {max-height: 0;max-width: 0;overflow: hidden;text-align: left;background-color: #f0f8ff;}#sk-container-id-1 div.sk-toggleable__content pre {margin: 0.2em;color: black;border-radius: 0.25em;background-color: #f0f8ff;}#sk-container-id-1 input.sk-toggleable__control:checked~div.sk-toggleable__content {max-height: 200px;max-width: 100%;overflow: auto;}#sk-container-id-1 input.sk-toggleable__control:checked~label.sk-toggleable__label-arrow:before {content: \"▾\";}#sk-container-id-1 div.sk-estimator input.sk-toggleable__control:checked~label.sk-toggleable__label {background-color: #d4ebff;}#sk-container-id-1 div.sk-label input.sk-toggleable__control:checked~label.sk-toggleable__label {background-color: #d4ebff;}#sk-container-id-1 input.sk-hidden--visually {border: 0;clip: rect(1px 1px 1px 1px);clip: rect(1px, 1px, 1px, 1px);height: 1px;margin: -1px;overflow: hidden;padding: 0;position: absolute;width: 1px;}#sk-container-id-1 div.sk-estimator {font-family: monospace;background-color: #f0f8ff;border: 1px dotted black;border-radius: 0.25em;box-sizing: border-box;margin-bottom: 0.5em;}#sk-container-id-1 div.sk-estimator:hover {background-color: #d4ebff;}#sk-container-id-1 div.sk-parallel-item::after {content: \"\";width: 100%;border-bottom: 1px solid gray;flex-grow: 1;}#sk-container-id-1 div.sk-label:hover label.sk-toggleable__label {background-color: #d4ebff;}#sk-container-id-1 div.sk-serial::before {content: \"\";position: absolute;border-left: 1px solid gray;box-sizing: border-box;top: 0;bottom: 0;left: 50%;z-index: 0;}#sk-container-id-1 div.sk-serial {display: flex;flex-direction: column;align-items: center;background-color: white;padding-right: 0.2em;padding-left: 0.2em;position: relative;}#sk-container-id-1 div.sk-item {position: relative;z-index: 1;}#sk-container-id-1 div.sk-parallel {display: flex;align-items: stretch;justify-content: center;background-color: white;position: relative;}#sk-container-id-1 div.sk-item::before, #sk-container-id-1 div.sk-parallel-item::before {content: \"\";position: absolute;border-left: 1px solid gray;box-sizing: border-box;top: 0;bottom: 0;left: 50%;z-index: -1;}#sk-container-id-1 div.sk-parallel-item {display: flex;flex-direction: column;z-index: 1;position: relative;background-color: white;}#sk-container-id-1 div.sk-parallel-item:first-child::after {align-self: flex-end;width: 50%;}#sk-container-id-1 div.sk-parallel-item:last-child::after {align-self: flex-start;width: 50%;}#sk-container-id-1 div.sk-parallel-item:only-child::after {width: 0;}#sk-container-id-1 div.sk-dashed-wrapped {border: 1px dashed gray;margin: 0 0.4em 0.5em 0.4em;box-sizing: border-box;padding-bottom: 0.4em;background-color: white;}#sk-container-id-1 div.sk-label label {font-family: monospace;font-weight: bold;display: inline-block;line-height: 1.2em;}#sk-container-id-1 div.sk-label-container {text-align: center;}#sk-container-id-1 div.sk-container {/* jupyter's `normalize.less` sets `[hidden] { display: none; }` but bootstrap.min.css set `[hidden] { display: none !important; }` so we also need the `!important` here to be able to override the default hidden behavior on the sphinx rendered scikit-learn.org. See: https://github.com/scikit-learn/scikit-learn/issues/21755 */display: inline-block !important;position: relative;}#sk-container-id-1 div.sk-text-repr-fallback {display: none;}</style><div id=\"sk-container-id-1\" class=\"sk-top-container\"><div class=\"sk-text-repr-fallback\"><pre>RandomForestClassifier(criterion=&#x27;entropy&#x27;, n_estimators=200)</pre><b>In a Jupyter environment, please rerun this cell to show the HTML representation or trust the notebook. <br />On GitHub, the HTML representation is unable to render, please try loading this page with nbviewer.org.</b></div><div class=\"sk-container\" hidden><div class=\"sk-item\"><div class=\"sk-estimator sk-toggleable\"><input class=\"sk-toggleable__control sk-hidden--visually\" id=\"sk-estimator-id-1\" type=\"checkbox\" checked><label for=\"sk-estimator-id-1\" class=\"sk-toggleable__label sk-toggleable__label-arrow\">RandomForestClassifier</label><div class=\"sk-toggleable__content\"><pre>RandomForestClassifier(criterion=&#x27;entropy&#x27;, n_estimators=200)</pre></div></div></div></div></div>"
      ],
      "text/plain": [
       "RandomForestClassifier(criterion='entropy', n_estimators=200)"
      ]
     },
     "execution_count": 35,
     "metadata": {},
     "output_type": "execute_result"
    }
   ],
   "source": [
    "# create classifier\n",
    "rf_clf = RandomForestClassifier(n_estimators=200, criterion='entropy')\n",
    "rf_clf.fit(vec_train_data, df_train['Label'])"
   ]
  },
  {
   "cell_type": "markdown",
   "id": "2aedeea3",
   "metadata": {
    "papermill": {
     "duration": 0.029657,
     "end_time": "2021-05-18T11:19:13.936516",
     "exception": false,
     "start_time": "2021-05-18T11:19:13.906859",
     "status": "completed"
    },
    "tags": []
   },
   "source": [
    "# Predictions"
   ]
  },
  {
   "cell_type": "code",
   "execution_count": 36,
   "id": "d8f745af",
   "metadata": {
    "execution": {
     "iopub.execute_input": "2022-12-22T18:00:56.996114Z",
     "iopub.status.busy": "2022-12-22T18:00:56.995647Z",
     "iopub.status.idle": "2022-12-22T18:00:57.301154Z",
     "shell.execute_reply": "2022-12-22T18:00:57.299965Z",
     "shell.execute_reply.started": "2022-12-22T18:00:56.996049Z"
    },
    "papermill": {
     "duration": 0.362848,
     "end_time": "2021-05-18T11:19:14.329184",
     "exception": false,
     "start_time": "2021-05-18T11:19:13.966336",
     "status": "completed"
    },
    "tags": []
   },
   "outputs": [],
   "source": [
    "# run precictions on test data\n",
    "y_pred = rf_clf.predict(vec_test_data)"
   ]
  },
  {
   "cell_type": "markdown",
   "id": "75843590",
   "metadata": {
    "papermill": {
     "duration": 0.029952,
     "end_time": "2021-05-18T11:19:14.389496",
     "exception": false,
     "start_time": "2021-05-18T11:19:14.359544",
     "status": "completed"
    },
    "tags": []
   },
   "source": [
    "# Check Accuracy"
   ]
  },
  {
   "cell_type": "code",
   "execution_count": 37,
   "id": "ba44d0d8",
   "metadata": {
    "execution": {
     "iopub.execute_input": "2022-12-22T18:00:57.302675Z",
     "iopub.status.busy": "2022-12-22T18:00:57.302371Z",
     "iopub.status.idle": "2022-12-22T18:00:57.306975Z",
     "shell.execute_reply": "2022-12-22T18:00:57.306001Z",
     "shell.execute_reply.started": "2022-12-22T18:00:57.302645Z"
    },
    "papermill": {
     "duration": 0.038543,
     "end_time": "2021-05-18T11:19:14.458001",
     "exception": false,
     "start_time": "2021-05-18T11:19:14.419458",
     "status": "completed"
    },
    "tags": []
   },
   "outputs": [],
   "source": [
    "from sklearn.metrics import classification_report, accuracy_score, confusion_matrix,precision_score, recall_score"
   ]
  },
  {
   "cell_type": "code",
   "execution_count": 38,
   "id": "e772532a",
   "metadata": {
    "execution": {
     "iopub.execute_input": "2022-12-22T18:00:57.308675Z",
     "iopub.status.busy": "2022-12-22T18:00:57.308207Z",
     "iopub.status.idle": "2022-12-22T18:00:57.325484Z",
     "shell.execute_reply": "2022-12-22T18:00:57.324209Z",
     "shell.execute_reply.started": "2022-12-22T18:00:57.308642Z"
    },
    "papermill": {
     "duration": 0.044302,
     "end_time": "2021-05-18T11:19:14.532700",
     "exception": false,
     "start_time": "2021-05-18T11:19:14.488398",
     "status": "completed"
    },
    "tags": []
   },
   "outputs": [
    {
     "data": {
      "text/plain": [
       "array([[135,  51],\n",
       "       [ 11, 181]], dtype=int64)"
      ]
     },
     "execution_count": 38,
     "metadata": {},
     "output_type": "execute_result"
    }
   ],
   "source": [
    "confusion_matrix(df_test['Label'], y_pred)"
   ]
  },
  {
   "cell_type": "code",
   "execution_count": 39,
   "id": "4fb9ed38",
   "metadata": {
    "execution": {
     "iopub.execute_input": "2022-12-22T18:00:57.327547Z",
     "iopub.status.busy": "2022-12-22T18:00:57.327209Z",
     "iopub.status.idle": "2022-12-22T18:00:57.340136Z",
     "shell.execute_reply": "2022-12-22T18:00:57.338781Z",
     "shell.execute_reply.started": "2022-12-22T18:00:57.327513Z"
    },
    "papermill": {
     "duration": 0.047196,
     "end_time": "2021-05-18T11:19:14.611088",
     "exception": false,
     "start_time": "2021-05-18T11:19:14.563892",
     "status": "completed"
    },
    "tags": []
   },
   "outputs": [
    {
     "name": "stdout",
     "output_type": "stream",
     "text": [
      "              precision    recall  f1-score   support\n",
      "\n",
      "           0       0.92      0.73      0.81       186\n",
      "           1       0.78      0.94      0.85       192\n",
      "\n",
      "    accuracy                           0.84       378\n",
      "   macro avg       0.85      0.83      0.83       378\n",
      "weighted avg       0.85      0.84      0.83       378\n",
      "\n"
     ]
    }
   ],
   "source": [
    "print(classification_report(df_test['Label'], y_pred))"
   ]
  },
  {
   "cell_type": "code",
   "execution_count": 40,
   "id": "ac41cc40",
   "metadata": {
    "execution": {
     "iopub.execute_input": "2022-12-22T18:00:57.343501Z",
     "iopub.status.busy": "2022-12-22T18:00:57.343172Z",
     "iopub.status.idle": "2022-12-22T18:00:57.349145Z",
     "shell.execute_reply": "2022-12-22T18:00:57.348227Z",
     "shell.execute_reply.started": "2022-12-22T18:00:57.343466Z"
    },
    "papermill": {
     "duration": 0.040017,
     "end_time": "2021-05-18T11:19:14.682943",
     "exception": false,
     "start_time": "2021-05-18T11:19:14.642926",
     "status": "completed"
    },
    "tags": []
   },
   "outputs": [
    {
     "name": "stdout",
     "output_type": "stream",
     "text": [
      "accuracy_score : 0.84\n",
      "precision_score : 0.78\n",
      "recall_score : 0.94\n"
     ]
    }
   ],
   "source": [
    "print('accuracy_score :',accuracy_score(df_test['Label'], y_pred).round(2))\n",
    "print('precision_score :',precision_score(df_test['Label'], y_pred).round(2))\n",
    "print('recall_score :',recall_score(df_test['Label'], y_pred).round(2))"
   ]
  },
  {
   "cell_type": "markdown",
   "id": "ade8c93e",
   "metadata": {},
   "source": [
    "## Using Logistic Regression"
   ]
  },
  {
   "cell_type": "code",
   "execution_count": 41,
   "id": "4f685021",
   "metadata": {
    "execution": {
     "iopub.execute_input": "2022-12-22T18:00:59.752729Z",
     "iopub.status.busy": "2022-12-22T18:00:59.752305Z",
     "iopub.status.idle": "2022-12-22T18:00:59.844482Z",
     "shell.execute_reply": "2022-12-22T18:00:59.843407Z",
     "shell.execute_reply.started": "2022-12-22T18:00:59.752684Z"
    }
   },
   "outputs": [
    {
     "name": "stdout",
     "output_type": "stream",
     "text": [
      "[[130  56]\n",
      " [  0 192]]\n",
      "              precision    recall  f1-score   support\n",
      "\n",
      "           0       1.00      0.70      0.82       186\n",
      "           1       0.77      1.00      0.87       192\n",
      "\n",
      "    accuracy                           0.85       378\n",
      "   macro avg       0.89      0.85      0.85       378\n",
      "weighted avg       0.89      0.85      0.85       378\n",
      "\n"
     ]
    }
   ],
   "source": [
    "from sklearn.linear_model import LogisticRegression\n",
    "lr_clf=LogisticRegression()\n",
    "lr_clf.fit(vec_train_data, df_train['Label'])\n",
    "\n",
    "# run precictions on test data\n",
    "y_pred = lr_clf.predict(vec_test_data)\n",
    "\n",
    "print(confusion_matrix(df_test['Label'], y_pred))\n",
    "print(classification_report(df_test['Label'], y_pred))"
   ]
  },
  {
   "cell_type": "code",
   "execution_count": 42,
   "id": "7f8d90be",
   "metadata": {},
   "outputs": [],
   "source": [
    "import pickle\n",
    "\n",
    "# Save the model to a file\n",
    "with open('logistic_regression_model.pkl', 'wb') as model_file:\n",
    "    pickle.dump(lr_clf, model_file)\n"
   ]
  },
  {
   "cell_type": "code",
   "execution_count": 43,
   "id": "7d920f42",
   "metadata": {},
   "outputs": [],
   "source": [
    "# import pickle\n",
    "\n",
    "# # Load the model from a file\n",
    "# with open('logistic_regression_model.pkl', 'rb') as model_file:\n",
    "#     lr_clf_loaded = pickle.load(model_file)"
   ]
  },
  {
   "cell_type": "markdown",
   "id": "2426dc4f",
   "metadata": {},
   "source": [
    "# ****************************************************************"
   ]
  },
  {
   "cell_type": "code",
   "execution_count": 44,
   "id": "a46a3ded",
   "metadata": {},
   "outputs": [],
   "source": [
    "dataset=\"Why wont America and Nato help us? If they wont help us now, why did we help them in Iraq?Bush puts foot down on Georgian conflict Jewish Georgian minister: Thanks to Israeli training, we are fending off Russia Georgian army flees in disarray as Russians advance - Gori abandoned to Russia without a shot fired Olympic opening ceremony fireworks 'faked'What were the Mossad with fraudulent New Zealand Passports doing in Iraq?Russia angered by Israeli military sale to Georgia An American citizen living in S.Ossetia blames U.S. and Georgian leaders for the genocide of innocent people Welcome To World War IV! Now In High Definition! Georgia's move, a mistake of monumental proportions Russia presses deeper into Georgia; U.S. says regime change is goal Abhinav Bindra wins first ever Individual Olympic Gold Medal for India  U.S. ship heads for Arctic to define territory Drivers in a Jerusalem taxi station threaten to quit rather than work for their new boss - an Arab The French Team is Stunned by Phelps and the 4x100m Relay Team Israel and the US behind the Georgian aggression? Do not believe TV, neither Russian nor Georgian. There are much more victims Riots are still going on in Montreal (Canada) because police murdered a boy on Saturday.China to overtake US as largest manufacturer War in South Ossetia [PICS]'b'Israeli Physicians Group Condemns State Torture'b' Russia has just beaten the United States over the head with Peak Oil Perhaps *the* question about the Georgia - Russia conflict Russia is so much better at war So this is what it's come to: trading sex for food\""
   ]
  },
  {
   "cell_type": "code",
   "execution_count": null,
   "id": "104d106d",
   "metadata": {},
   "outputs": [],
   "source": []
  },
  {
   "cell_type": "code",
   "execution_count": 59,
   "id": "16fff415",
   "metadata": {},
   "outputs": [],
   "source": [
    "import pickle\n",
    "import pandas as pd\n",
    "from nltk.corpus import stopwords\n",
    "from nltk.stem import WordNetLemmatizer\n",
    "from sklearn.feature_extraction.text import TfidfVectorizer\n",
    "\n",
    "# Load the trained logistic regression model\n",
    "model_path = r'C:\\Users\\DELL\\Desktop\\PRTFLIO\\Data-Science-Projects\\Sentiment_Analysis_for_Dow_Jones_(DJIA_Stock)\\logistic_regression_model.pkl'  # Replace with the correct file path\n",
    "lr_clf_loaded = pickle.load(open(model_path, 'rb'))\n",
    "\n",
    "# Load the fitted TF-IDF vectorizer\n",
    "vectorizer_path = r'C:\\Users\\DELL\\Desktop\\PRTFLIO\\Data-Science-Projects\\Sentiment_Analysis_for_Dow_Jones_(DJIA_Stock)\\tfidf_vectorizer.pkl'  # Replace with the correct file path\n",
    "tfidf_vectorizer = pickle.load(open(vectorizer_path, 'rb'))\n",
    "\n",
    "# # Load the TfidfVectorizer from the pickle file\n",
    "# with open('tfidf_vectorizer.pkl', 'rb') as vectorizer_file:\n",
    "#     loaded_cv = pickle.load(vectorizer_file)\n",
    "\n",
    "# Function for cleaning the data\n",
    "def clean_data(dataset):\n",
    "    data = pd.Series(dataset).str.replace(\"[^a-zA-Z]\", \" \", regex=True)\n",
    "    return data\n",
    "\n",
    "# Function to perform lemmatization of the words\n",
    "def lemmatize_data(data, lemmatizer):\n",
    "    cleaned_dataset = []\n",
    "    for i in range(len(data)):\n",
    "        clean_text = data[i].lower()\n",
    "        clean_text = clean_text.split()\n",
    "        clean_text = [lemmatizer.lemmatize(word) for word in clean_text if word not in stopwords.words('english')]\n",
    "        cleaned_dataset.append(' '.join(clean_text))\n",
    "    return cleaned_dataset"
   ]
  },
  {
   "cell_type": "code",
   "execution_count": 68,
   "id": "2e56cd97",
   "metadata": {},
   "outputs": [
    {
     "name": "stdout",
     "output_type": "stream",
     "text": [
      "Prediction: The Index Value will remain the SAME or will go UP.\n"
     ]
    }
   ],
   "source": [
    "# Predictor function\n",
    "def predictor(newdata):\n",
    "\n",
    "    # Clean the data\n",
    "    data1 = clean_data(newdata)\n",
    "    \n",
    "    # Perform lemmatization\n",
    "    data2 = lemmatize_data(data1, WordNetLemmatizer())\n",
    "    \n",
    "    # Vectorize the new text data using the loaded TfidfVectorizer\n",
    "    vectorized_data = tfidf_vectorizer.transform(data2)\n",
    "    \n",
    "    # Make a prediction\n",
    "    predict = lr_clf_loaded.predict(vectorized_data)\n",
    "    \n",
    "    # Return the prediction\n",
    "    if predict == 1:\n",
    "        return 'Prediction: The Index Value will remain the SAME or will go UP.'\n",
    "    else:\n",
    "        return 'Prediction: The Index Value will go DOWN!'\n",
    "\n",
    "# # Example usage\n",
    "# dataset = \"Your news article text goes here.\"\n",
    "#dataset=\"Why wont America and Nato help us? If they wont help us now, why did we help them in Iraq?Bush puts foot down on Georgian conflict Jewish Georgian minister: Thanks to Israeli training, we are fending off Russia Georgian army flees in disarray as Russians advance - Gori abandoned to Russia without a shot fired Olympic opening ceremony fireworks 'faked'What were the Mossad with fraudulent New Zealand Passports doing in Iraq?Russia angered by Israeli military sale to Georgia An American citizen living in S.Ossetia blames U.S. and Georgian leaders for the genocide of innocent people Welcome To World War IV! Now In High Definition! Georgia's move, a mistake of monumental proportions Russia presses deeper into Georgia; U.S. says regime change is goal Abhinav Bindra wins first ever Individual Olympic Gold Medal for India  U.S. ship heads for Arctic to define territory Drivers in a Jerusalem taxi station threaten to quit rather than work for their new boss - an Arab The French Team is Stunned by Phelps and the 4x100m Relay Team Israel and the US behind the Georgian aggression? Do not believe TV, neither Russian nor Georgian. There are much more victims Riots are still going on in Montreal (Canada) because police murdered a boy on Saturday.China to overtake US as largest manufacturer War in South Ossetia [PICS]'b'Israeli Physicians Group Condemns State Torture'b' Russia has just beaten the United States over the head with Peak Oil Perhaps *the* question about the Georgia - Russia conflict Russia is so much better at war So this is what it's come to: trading sex for food\"\n",
    "\n",
    "dataset=\"b' U.S. refuses Israel weapons to attack Iran: report' b\\\"When the president ordered to attack Tskhinvali [the capital of South Ossetia], we knew then we were doomed. How come he didn't realize that?\\\" b' Israel clears troops who killed Reuters cameraman' b'Britain's policy of being tough on drugs is \\\"pointless\\\", says a former civil servant who once ran the Cabinet's anti-drugs unit.' b'Body of 14 year old found in trunk; Latest (ransom paid) kidnapping victim in Mexico. Head cop quits, Prez dissolves suspect elite task force' b'China has moved 10 *million* quake survivors into prefab homes' b\\\"Bush announces Operation Get All Up In Russia's Grill. Yeah, this will end well.\\\" b'Russian forces sink Georgian ships ' b\\\"The commander of a Navy air reconnaissance squadron that provides the President and the defense secretary the airborne ability to command the nation's nuclear weapons has been relieved of duty\\\" b\\\"92% of CNN readers: Russia's actions in Georgia - justified!\\\" b'USA to send fleet into Black Sea to help Georgia, send troops in \\\"humanitarian aid exercise\\\"' b\\\"US warns against Israeli plan to strike against Iran's nuclear facilities\\\" b\\\"In an intriguing cyberalliance, two Estonian computer experts are heading to Georgia to keep the country's networks running amid an intense military confrontation with Russia\\\" b'The CNN Effect: Georgia Schools Russia in Information Warfare' b'Why Russias response to Georgia was right' b'Elephants extinct by 2020?' b'US humanitarian missions soon in Georgia - if Russia hits the US - WWIII?' b\\\"Georgia's DDOS came from US sources\\\" b'Russian convoy heads\"\n",
    "\n",
    "prediction = predictor(dataset)\n",
    "\n",
    "print(prediction)"
   ]
  },
  {
   "cell_type": "code",
   "execution_count": null,
   "id": "ac2dee52",
   "metadata": {},
   "outputs": [],
   "source": []
  }
 ],
 "metadata": {
  "kernelspec": {
   "display_name": "Python 3 (ipykernel)",
   "language": "python",
   "name": "python3"
  },
  "language_info": {
   "codemirror_mode": {
    "name": "ipython",
    "version": 3
   },
   "file_extension": ".py",
   "mimetype": "text/x-python",
   "name": "python",
   "nbconvert_exporter": "python",
   "pygments_lexer": "ipython3",
   "version": "3.11.4"
  },
  "papermill": {
   "default_parameters": {},
   "duration": 171.982709,
   "end_time": "2021-05-18T11:19:16.220134",
   "environment_variables": {},
   "exception": null,
   "input_path": "__notebook__.ipynb",
   "output_path": "__notebook__.ipynb",
   "parameters": {},
   "start_time": "2021-05-18T11:16:24.237425",
   "version": "2.3.3"
  }
 },
 "nbformat": 4,
 "nbformat_minor": 5
}
